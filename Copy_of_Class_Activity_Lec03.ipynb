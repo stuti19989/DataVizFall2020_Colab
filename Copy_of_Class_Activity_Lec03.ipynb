{
  "nbformat": 4,
  "nbformat_minor": 0,
  "metadata": {
    "colab": {
      "name": "Copy of Class_Activity_Lec03.ipynb",
      "provenance": [],
      "collapsed_sections": [],
      "include_colab_link": true
    },
    "kernelspec": {
      "name": "python3",
      "display_name": "Python 3"
    }
  },
  "cells": [
    {
      "cell_type": "markdown",
      "metadata": {
        "id": "view-in-github",
        "colab_type": "text"
      },
      "source": [
        "<a href=\"https://colab.research.google.com/github/stuti19989/DataVizFall2020_Colab/blob/master/Copy_of_Class_Activity_Lec03.ipynb\" target=\"_parent\"><img src=\"https://colab.research.google.com/assets/colab-badge.svg\" alt=\"Open In Colab\"/></a>"
      ]
    },
    {
      "cell_type": "markdown",
      "metadata": {
        "id": "Byjnt3sW70g2",
        "colab_type": "text"
      },
      "source": [
        "# Visualize New York times database for COVID-19\n",
        "## Case study Bristol and Suffolk, MA"
      ]
    },
    {
      "cell_type": "markdown",
      "metadata": {
        "id": "-yRKZ88f8Eit",
        "colab_type": "text"
      },
      "source": [
        "## Loading US County Level Data"
      ]
    },
    {
      "cell_type": "code",
      "metadata": {
        "id": "FmC4_RXYRmTQ",
        "colab_type": "code",
        "colab": {}
      },
      "source": [
        "import pandas as pd\n",
        "import matplotlib.pyplot as plt"
      ],
      "execution_count": 13,
      "outputs": []
    },
    {
      "cell_type": "code",
      "metadata": {
        "id": "uMLnoCtYTr4t",
        "colab_type": "code",
        "colab": {}
      },
      "source": [
        ""
      ],
      "execution_count": 13,
      "outputs": []
    },
    {
      "cell_type": "code",
      "metadata": {
        "id": "Zx2TID5Q79vH",
        "colab_type": "code",
        "colab": {}
      },
      "source": [
        "# https://github.com/nytimes/covid-19-data repository location\n",
        "db = \"https://raw.githubusercontent.com/nytimes/covid-19-data/master/us-counties.csv\"\n",
        "## loading data into dataframe\n",
        "df = pd.read_csv(db)"
      ],
      "execution_count": 14,
      "outputs": []
    },
    {
      "cell_type": "markdown",
      "metadata": {
        "id": "Qmo3W6WqZc-o",
        "colab_type": "text"
      },
      "source": [
        "# Explore data"
      ]
    },
    {
      "cell_type": "code",
      "metadata": {
        "id": "1LFMv0CP7vf_",
        "colab_type": "code",
        "colab": {
          "base_uri": "https://localhost:8080/",
          "height": 195
        },
        "outputId": "f63349ae-f043-4549-c85b-46413995c19f"
      },
      "source": [
        "df.head(5)"
      ],
      "execution_count": 15,
      "outputs": [
        {
          "output_type": "execute_result",
          "data": {
            "text/html": [
              "<div>\n",
              "<style scoped>\n",
              "    .dataframe tbody tr th:only-of-type {\n",
              "        vertical-align: middle;\n",
              "    }\n",
              "\n",
              "    .dataframe tbody tr th {\n",
              "        vertical-align: top;\n",
              "    }\n",
              "\n",
              "    .dataframe thead th {\n",
              "        text-align: right;\n",
              "    }\n",
              "</style>\n",
              "<table border=\"1\" class=\"dataframe\">\n",
              "  <thead>\n",
              "    <tr style=\"text-align: right;\">\n",
              "      <th></th>\n",
              "      <th>date</th>\n",
              "      <th>county</th>\n",
              "      <th>state</th>\n",
              "      <th>fips</th>\n",
              "      <th>cases</th>\n",
              "      <th>deaths</th>\n",
              "    </tr>\n",
              "  </thead>\n",
              "  <tbody>\n",
              "    <tr>\n",
              "      <th>0</th>\n",
              "      <td>2020-01-21</td>\n",
              "      <td>Snohomish</td>\n",
              "      <td>Washington</td>\n",
              "      <td>53061.0</td>\n",
              "      <td>1</td>\n",
              "      <td>0</td>\n",
              "    </tr>\n",
              "    <tr>\n",
              "      <th>1</th>\n",
              "      <td>2020-01-22</td>\n",
              "      <td>Snohomish</td>\n",
              "      <td>Washington</td>\n",
              "      <td>53061.0</td>\n",
              "      <td>1</td>\n",
              "      <td>0</td>\n",
              "    </tr>\n",
              "    <tr>\n",
              "      <th>2</th>\n",
              "      <td>2020-01-23</td>\n",
              "      <td>Snohomish</td>\n",
              "      <td>Washington</td>\n",
              "      <td>53061.0</td>\n",
              "      <td>1</td>\n",
              "      <td>0</td>\n",
              "    </tr>\n",
              "    <tr>\n",
              "      <th>3</th>\n",
              "      <td>2020-01-24</td>\n",
              "      <td>Cook</td>\n",
              "      <td>Illinois</td>\n",
              "      <td>17031.0</td>\n",
              "      <td>1</td>\n",
              "      <td>0</td>\n",
              "    </tr>\n",
              "    <tr>\n",
              "      <th>4</th>\n",
              "      <td>2020-01-24</td>\n",
              "      <td>Snohomish</td>\n",
              "      <td>Washington</td>\n",
              "      <td>53061.0</td>\n",
              "      <td>1</td>\n",
              "      <td>0</td>\n",
              "    </tr>\n",
              "  </tbody>\n",
              "</table>\n",
              "</div>"
            ],
            "text/plain": [
              "         date     county       state     fips  cases  deaths\n",
              "0  2020-01-21  Snohomish  Washington  53061.0      1       0\n",
              "1  2020-01-22  Snohomish  Washington  53061.0      1       0\n",
              "2  2020-01-23  Snohomish  Washington  53061.0      1       0\n",
              "3  2020-01-24       Cook    Illinois  17031.0      1       0\n",
              "4  2020-01-24  Snohomish  Washington  53061.0      1       0"
            ]
          },
          "metadata": {
            "tags": []
          },
          "execution_count": 15
        }
      ]
    },
    {
      "cell_type": "code",
      "metadata": {
        "id": "QpoWNDUxZgSJ",
        "colab_type": "code",
        "colab": {
          "base_uri": "https://localhost:8080/",
          "height": 134
        },
        "outputId": "d3763686-5df3-44aa-9dce-af343129e368"
      },
      "source": [
        "df.nunique()"
      ],
      "execution_count": 16,
      "outputs": [
        {
          "output_type": "execute_result",
          "data": {
            "text/plain": [
              "date        234\n",
              "county     1923\n",
              "state        55\n",
              "fips       3205\n",
              "cases     16026\n",
              "deaths     2381\n",
              "dtype: int64"
            ]
          },
          "metadata": {
            "tags": []
          },
          "execution_count": 16
        }
      ]
    },
    {
      "cell_type": "code",
      "metadata": {
        "id": "n6KHjGs7RwaS",
        "colab_type": "code",
        "colab": {
          "base_uri": "https://localhost:8080/",
          "height": 34
        },
        "outputId": "6e453c79-c6f0-4aa8-9d32-2d01677b0d0e"
      },
      "source": [
        "# let us get fips for 2 counties  (Bristol and Suffolk, MA)\n",
        "## fips stands for : Federal Information Processing Standards\n",
        "df_Bristolfips = df[(df['county'] == 'Bristol') & (df['state'] == 'Massachusetts')]['fips'].unique()[0]\n",
        "df_Bristolfips"
      ],
      "execution_count": 17,
      "outputs": [
        {
          "output_type": "execute_result",
          "data": {
            "text/plain": [
              "25005.0"
            ]
          },
          "metadata": {
            "tags": []
          },
          "execution_count": 17
        }
      ]
    },
    {
      "cell_type": "code",
      "metadata": {
        "id": "3TlyVvBwKm9B",
        "colab_type": "code",
        "colab": {
          "base_uri": "https://localhost:8080/",
          "height": 34
        },
        "outputId": "dfcd41e1-ccd4-4d96-a0f6-b879ace1e92c"
      },
      "source": [
        "df_Suffolkfips = df[(df['county']== 'Suffolk') & (df['state'] == 'Massachusetts')]['fips'].unique()[0]\n",
        "df_Suffolkfips"
      ],
      "execution_count": 18,
      "outputs": [
        {
          "output_type": "execute_result",
          "data": {
            "text/plain": [
              "25025.0"
            ]
          },
          "metadata": {
            "tags": []
          },
          "execution_count": 18
        }
      ]
    },
    {
      "cell_type": "code",
      "metadata": {
        "id": "i49hOlljKvvJ",
        "colab_type": "code",
        "colab": {
          "base_uri": "https://localhost:8080/",
          "height": 50
        },
        "outputId": "c24b6204-bbd4-481f-8cfb-783cd962e587"
      },
      "source": [
        "print(f'Bristol_fips =',df_Bristolfips)\n",
        "print(f'Suffolk_fips =',df_Suffolkfips)"
      ],
      "execution_count": 19,
      "outputs": [
        {
          "output_type": "stream",
          "text": [
            "Bristol_fips = 25005.0\n",
            "Suffolk_fips = 25025.0\n"
          ],
          "name": "stdout"
        }
      ]
    },
    {
      "cell_type": "code",
      "metadata": {
        "id": "xYbzk8vCR8GE",
        "colab_type": "code",
        "colab": {
          "base_uri": "https://localhost:8080/",
          "height": 225
        },
        "outputId": "373545b7-f75d-4a16-d77b-06b20c3c50ce"
      },
      "source": [
        "def get_county_stat(df,fips):\n",
        "  a = df[df['fips'] == fips][['date','county','state','cases','deaths']].copy()\n",
        "  a.set_index('date',inplace=True)\n",
        "  a.index = pd.to_datetime(a.index)\n",
        "  return a\n",
        "\n",
        "get_county_stat(df,df_Bristolfips).head()\n",
        "\n"
      ],
      "execution_count": 20,
      "outputs": [
        {
          "output_type": "execute_result",
          "data": {
            "text/html": [
              "<div>\n",
              "<style scoped>\n",
              "    .dataframe tbody tr th:only-of-type {\n",
              "        vertical-align: middle;\n",
              "    }\n",
              "\n",
              "    .dataframe tbody tr th {\n",
              "        vertical-align: top;\n",
              "    }\n",
              "\n",
              "    .dataframe thead th {\n",
              "        text-align: right;\n",
              "    }\n",
              "</style>\n",
              "<table border=\"1\" class=\"dataframe\">\n",
              "  <thead>\n",
              "    <tr style=\"text-align: right;\">\n",
              "      <th></th>\n",
              "      <th>county</th>\n",
              "      <th>state</th>\n",
              "      <th>cases</th>\n",
              "      <th>deaths</th>\n",
              "    </tr>\n",
              "    <tr>\n",
              "      <th>date</th>\n",
              "      <th></th>\n",
              "      <th></th>\n",
              "      <th></th>\n",
              "      <th></th>\n",
              "    </tr>\n",
              "  </thead>\n",
              "  <tbody>\n",
              "    <tr>\n",
              "      <th>2020-03-14</th>\n",
              "      <td>Bristol</td>\n",
              "      <td>Massachusetts</td>\n",
              "      <td>1</td>\n",
              "      <td>0</td>\n",
              "    </tr>\n",
              "    <tr>\n",
              "      <th>2020-03-15</th>\n",
              "      <td>Bristol</td>\n",
              "      <td>Massachusetts</td>\n",
              "      <td>1</td>\n",
              "      <td>0</td>\n",
              "    </tr>\n",
              "    <tr>\n",
              "      <th>2020-03-16</th>\n",
              "      <td>Bristol</td>\n",
              "      <td>Massachusetts</td>\n",
              "      <td>2</td>\n",
              "      <td>0</td>\n",
              "    </tr>\n",
              "    <tr>\n",
              "      <th>2020-03-17</th>\n",
              "      <td>Bristol</td>\n",
              "      <td>Massachusetts</td>\n",
              "      <td>5</td>\n",
              "      <td>0</td>\n",
              "    </tr>\n",
              "    <tr>\n",
              "      <th>2020-03-18</th>\n",
              "      <td>Bristol</td>\n",
              "      <td>Massachusetts</td>\n",
              "      <td>5</td>\n",
              "      <td>0</td>\n",
              "    </tr>\n",
              "  </tbody>\n",
              "</table>\n",
              "</div>"
            ],
            "text/plain": [
              "             county          state  cases  deaths\n",
              "date                                             \n",
              "2020-03-14  Bristol  Massachusetts      1       0\n",
              "2020-03-15  Bristol  Massachusetts      1       0\n",
              "2020-03-16  Bristol  Massachusetts      2       0\n",
              "2020-03-17  Bristol  Massachusetts      5       0\n",
              "2020-03-18  Bristol  Massachusetts      5       0"
            ]
          },
          "metadata": {
            "tags": []
          },
          "execution_count": 20
        }
      ]
    },
    {
      "cell_type": "markdown",
      "metadata": {
        "id": "ZdvAU6NsXmXZ",
        "colab_type": "text"
      },
      "source": [
        "## Explore data type"
      ]
    },
    {
      "cell_type": "code",
      "metadata": {
        "id": "SqrW8_oTXlxH",
        "colab_type": "code",
        "colab": {}
      },
      "source": [
        "df_Bristol = get_county_stat(df,25005)\n",
        "df_Suffolk = get_county_stat(df,25025)"
      ],
      "execution_count": 21,
      "outputs": []
    },
    {
      "cell_type": "code",
      "metadata": {
        "id": "pvwkK_bxZvA2",
        "colab_type": "code",
        "colab": {
          "base_uri": "https://localhost:8080/",
          "height": 407
        },
        "outputId": "8ab39688-27ec-4f43-c2f8-e0f290d2136e"
      },
      "source": [
        "f,ax = plt.subplots(1,2,figsize=(18,6))\n",
        "\n",
        "ax[0].plot(df_Bristol.index,df_Bristol.cases,'-.',color='steelblue',label='Bristol cases')\n",
        "ax[0].plot(df_Bristol.index,df_Bristol.deaths,'-.',color='orange',label='Bristol deaths')\n",
        "\n",
        "ax[0].plot(df_Suffolk.index,df_Suffolk.cases,'-.',color='darkblue',label='Suffolk cases')\n",
        "ax[0].plot(df_Suffolk.index,df_Suffolk.deaths,'-.',color='red',label='Suffolk deaths')\n",
        "\n",
        "width = 0.5\n",
        "past= -90\n",
        "p1 = ax[1].bar(df_Bristol.index[past:], df_Bristol.deaths[past:],width,label='Bristol')\n",
        "p2 = ax[1].bar(df_Suffolk.index[past:], df_Suffolk.deaths[past:],width,bottom=df_Bristol.deaths[past:],label='Suffolk')\n",
        "ax[0].set_title('Bristol vs Suffolk')\n",
        "ax[1].set_title('Deaths Comparison')\n",
        "ax[0].legend()\n",
        "ax[1].legend()\n"
      ],
      "execution_count": 22,
      "outputs": [
        {
          "output_type": "execute_result",
          "data": {
            "text/plain": [
              "<matplotlib.legend.Legend at 0x7fdde4f09dd8>"
            ]
          },
          "metadata": {
            "tags": []
          },
          "execution_count": 22
        },
        {
          "output_type": "display_data",
          "data": {
            "image/png": "[encoded data removed]",
            "text/plain": [
              "<Figure size 1296x432 with 2 Axes>"
            ]
          },
          "metadata": {
            "tags": [],
            "needs_background": "light"
          }
        }
      ]
    },
    {
      "cell_type": "code",
      "metadata": {
        "id": "lYE52OMEf5-r",
        "colab_type": "code",
        "colab": {}
      },
      "source": [
        "df.sort_values(['date','fips'])\n",
        "df['Daily_cases'] = df.groupby('fips')['cases'].diff().fillna(0)\n",
        "df['Daily_cases'] = df['Daily_cases'].rolling(window=3).max()\n",
        "\n",
        "df['Daily_deaths'] = df.groupby('fips')['deaths'].diff().fillna(0)\n",
        "df['Daily_deaths'] = df['Daily_deaths'].rolling(window=3).max()\n"
      ],
      "execution_count": 23,
      "outputs": []
    },
    {
      "cell_type": "markdown",
      "metadata": {
        "id": "3Ir7AQGfSrl7",
        "colab_type": "text"
      },
      "source": [
        "## Top 10 counties by number of cases and deaths \n",
        "\n",
        "\n",
        "\n",
        "```\n",
        "# This is formatted as code\n",
        "```\n",
        "\n",
        "\n",
        "\n"
      ]
    },
    {
      "cell_type": "code",
      "metadata": {
        "id": "tNBUQcD5GO8f",
        "colab_type": "code",
        "colab": {
          "base_uri": "https://localhost:8080/",
          "height": 343
        },
        "outputId": "29da742b-23fb-4cd5-8abd-bd54b8aac49e"
      },
      "source": [
        "Filtered = df\n",
        "Filtered = df.groupby(['fips','county'],as_index = False).sum()\n",
        "\n",
        "ttc = Filtered[['county','Daily_cases','Daily_deaths']].sort_values(['Daily_cases','Daily_deaths'],ascending=False).head(10)\n",
        "ttc"
      ],
      "execution_count": 24,
      "outputs": [
        {
          "output_type": "execute_result",
          "data": {
            "text/html": [
              "<div>\n",
              "<style scoped>\n",
              "    .dataframe tbody tr th:only-of-type {\n",
              "        vertical-align: middle;\n",
              "    }\n",
              "\n",
              "    .dataframe tbody tr th {\n",
              "        vertical-align: top;\n",
              "    }\n",
              "\n",
              "    .dataframe thead th {\n",
              "        text-align: right;\n",
              "    }\n",
              "</style>\n",
              "<table border=\"1\" class=\"dataframe\">\n",
              "  <thead>\n",
              "    <tr style=\"text-align: right;\">\n",
              "      <th></th>\n",
              "      <th>county</th>\n",
              "      <th>Daily_cases</th>\n",
              "      <th>Daily_deaths</th>\n",
              "    </tr>\n",
              "  </thead>\n",
              "  <tbody>\n",
              "    <tr>\n",
              "      <th>201</th>\n",
              "      <td>Los Angeles</td>\n",
              "      <td>251024.0</td>\n",
              "      <td>6129.0</td>\n",
              "    </tr>\n",
              "    <tr>\n",
              "      <th>203</th>\n",
              "      <td>Marin</td>\n",
              "      <td>251023.0</td>\n",
              "      <td>6128.0</td>\n",
              "    </tr>\n",
              "    <tr>\n",
              "      <th>202</th>\n",
              "      <td>Madera</td>\n",
              "      <td>251011.0</td>\n",
              "      <td>6128.0</td>\n",
              "    </tr>\n",
              "    <tr>\n",
              "      <th>358</th>\n",
              "      <td>Miami-Dade</td>\n",
              "      <td>162893.0</td>\n",
              "      <td>2803.0</td>\n",
              "    </tr>\n",
              "    <tr>\n",
              "      <th>360</th>\n",
              "      <td>Nassau</td>\n",
              "      <td>162892.0</td>\n",
              "      <td>2790.0</td>\n",
              "    </tr>\n",
              "    <tr>\n",
              "      <th>359</th>\n",
              "      <td>Monroe</td>\n",
              "      <td>162792.0</td>\n",
              "      <td>2791.0</td>\n",
              "    </tr>\n",
              "    <tr>\n",
              "      <th>100</th>\n",
              "      <td>Maricopa</td>\n",
              "      <td>136571.0</td>\n",
              "      <td>3143.0</td>\n",
              "    </tr>\n",
              "    <tr>\n",
              "      <th>102</th>\n",
              "      <td>Navajo</td>\n",
              "      <td>136563.0</td>\n",
              "      <td>3157.0</td>\n",
              "    </tr>\n",
              "    <tr>\n",
              "      <th>101</th>\n",
              "      <td>Mohave</td>\n",
              "      <td>136320.0</td>\n",
              "      <td>3148.0</td>\n",
              "    </tr>\n",
              "    <tr>\n",
              "      <th>605</th>\n",
              "      <td>Cook</td>\n",
              "      <td>132976.0</td>\n",
              "      <td>5104.0</td>\n",
              "    </tr>\n",
              "  </tbody>\n",
              "</table>\n",
              "</div>"
            ],
            "text/plain": [
              "          county  Daily_cases  Daily_deaths\n",
              "201  Los Angeles     251024.0        6129.0\n",
              "203        Marin     251023.0        6128.0\n",
              "202       Madera     251011.0        6128.0\n",
              "358   Miami-Dade     162893.0        2803.0\n",
              "360       Nassau     162892.0        2790.0\n",
              "359       Monroe     162792.0        2791.0\n",
              "100     Maricopa     136571.0        3143.0\n",
              "102       Navajo     136563.0        3157.0\n",
              "101       Mohave     136320.0        3148.0\n",
              "605         Cook     132976.0        5104.0"
            ]
          },
          "metadata": {
            "tags": []
          },
          "execution_count": 24
        }
      ]
    },
    {
      "cell_type": "markdown",
      "metadata": {
        "id": "aHvTcmdfgy38",
        "colab_type": "text"
      },
      "source": [
        "## Death rate Per FIPS "
      ]
    },
    {
      "cell_type": "code",
      "metadata": {
        "id": "9fNijuO8R9Hx",
        "colab_type": "code",
        "colab": {
          "base_uri": "https://localhost:8080/",
          "height": 252
        },
        "outputId": "8c058b87-b5a2-4534-965e-ffe75fb0d7b4"
      },
      "source": [
        "Filtered['Death_rate'] = Filtered['Daily_deaths']/Filtered['Daily_cases']*100\n",
        "print(Filtered[['fips','Death_rate']])"
      ],
      "execution_count": 25,
      "outputs": [
        {
          "output_type": "stream",
          "text": [
            "         fips  Death_rate\n",
            "0      1001.0    2.007528\n",
            "1      1003.0    1.351616\n",
            "2      1005.0    1.410658\n",
            "3      1007.0    1.118568\n",
            "4      1009.0    1.366607\n",
            "...       ...         ...\n",
            "3200  72151.0    0.000000\n",
            "3201  72153.0    0.000000\n",
            "3202  78010.0    1.757812\n",
            "3203  78020.0    1.716738\n",
            "3204  78030.0    1.704545\n",
            "\n",
            "[3205 rows x 2 columns]\n"
          ],
          "name": "stdout"
        }
      ]
    },
    {
      "cell_type": "code",
      "metadata": {
        "id": "1lJmC-FEhhY-",
        "colab_type": "code",
        "colab": {}
      },
      "source": [
        ""
      ],
      "execution_count": 25,
      "outputs": []
    },
    {
      "cell_type": "markdown",
      "metadata": {
        "id": "FqTGKtk5hQ-I",
        "colab_type": "text"
      },
      "source": [
        "## <font color = red> Bonus Point</font>\n",
        "\n",
        "### A function that makes \"Folium Choropleth Map\" for Weekly Cases, Weekly Deaths and Weekly Mortality Rate </font>\n",
        "\n",
        "ALL COUNTIES\n",
        "\n",
        "<br>\n",
        "\n",
        "### def Folium_Choropleth(type = 'cases',date=''):\n",
        "\n",
        "<br>\n",
        "\n",
        "## Due for Bonus point : Friday (09/11/2020 11:59pm)"
      ]
    },
    {
      "cell_type": "code",
      "metadata": {
        "id": "Qi9EZlbmhPh2",
        "colab_type": "code",
        "colab": {}
      },
      "source": [
        ""
      ],
      "execution_count": 25,
      "outputs": []
    },
    {
      "cell_type": "code",
      "metadata": {
        "id": "QM_OR4VxSqEN",
        "colab_type": "code",
        "colab": {}
      },
      "source": [
        ""
      ],
      "execution_count": 25,
      "outputs": []
    },
    {
      "cell_type": "code",
      "metadata": {
        "id": "296nY_KHhOc0",
        "colab_type": "code",
        "colab": {}
      },
      "source": [
        ""
      ],
      "execution_count": 25,
      "outputs": []
    }
  ]
}